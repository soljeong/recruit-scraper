{
 "cells": [
  {
   "cell_type": "markdown",
   "metadata": {},
   "source": [
    "# bs"
   ]
  },
  {
   "cell_type": "code",
   "execution_count": null,
   "metadata": {},
   "outputs": [],
   "source": [
    "import requests \n",
    "from bs4 import BeautifulSoup\n",
    "import pandas as pd"
   ]
  },
  {
   "cell_type": "code",
   "execution_count": null,
   "metadata": {},
   "outputs": [],
   "source": [
    "head = {'User-Agent':\n",
    "'Mozilla/5.0 (Windows NT 10.0; Win64; x64) AppleWebKit/537.36 (KHTML, like Gecko) Chrome/121.0.0.0 Safari/537.36 Edg/121.0.0.0'}\n",
    "data = []\n",
    "with requests.Session() as s:\n",
    "    for page in range(1,6):\n",
    "        url = f\"https://www.saramin.co.kr/zf_user/jobs/list/job-category?cat_mcls=2&page={page}&page_count=1000&sort=RD\"\n",
    "        r = s.get(url, headers=head)\n",
    "        data.append(r)\n",
    "        print(page)\n",
    "        if r.status_code != 200:\n",
    "            break\n"
   ]
  },
  {
   "cell_type": "code",
   "execution_count": null,
   "metadata": {},
   "outputs": [],
   "source": [
    "item_list = []\n",
    "for r in data:\n",
    "    soup = BeautifulSoup(r.text)\n",
    "    box_item_list = soup.select('div.box_item')\n",
    "\n",
    "\n",
    "    for box_item in box_item_list:\n",
    "        temp = {}\n",
    "        temp['company_name'] = box_item.select_one('.company_nm > .str_tit').text.strip()\n",
    "        temp['company_sn'] = box_item.select_one('.interested_corp')['csn']\n",
    "        temp['is_headhunting'] = '헤드헌팅' in box_item.select_one(\".company_nm\").text\n",
    "        temp['job_idx'] = box_item.find('button', attrs={'rec_idx': True})['rec_idx']\n",
    "        temp['job_title'] = box_item.select_one('.notification_info a.str_tit')['title']\n",
    "        temp['job_link'] = box_item.select_one('.notification_info a.str_tit')['href']\n",
    "        temp['job_sectors'] = [i.text for i in box_item.select('.notification_info .job_meta .job_sector span')]\n",
    "        work_place_element = box_item.select_one('.recruit_info .work_place')\n",
    "        temp['work_place'] = work_place_element.text if work_place_element is not None else None\n",
    "        temp['career_info'] = box_item.select_one('.recruit_info .career').text\n",
    "        temp['education_info'] = box_item.select_one('.recruit_info .education').text\n",
    "        temp['support_date'] = box_item.select_one('.support_info .date').text\n",
    "        temp['deadline'] = box_item.select_one('.support_info .deadlines').text\n",
    "        item_list.append(temp)\n"
   ]
  },
  {
   "cell_type": "code",
   "execution_count": null,
   "metadata": {},
   "outputs": [],
   "source": [
    "\n",
    "df = pd.DataFrame(item_list)\n",
    "df['update'] = pd.to_datetime('now')"
   ]
  },
  {
   "cell_type": "code",
   "execution_count": null,
   "metadata": {},
   "outputs": [],
   "source": [
    "df['update'] = pd.to_datetime('now')\n"
   ]
  },
  {
   "cell_type": "code",
   "execution_count": null,
   "metadata": {},
   "outputs": [],
   "source": [
    "def process_deadline(row):\n",
    "    x = row['deadline']\n",
    "\n",
    "    word = x.split(' ')[0]\n",
    "\n",
    "    if '일' in word:\n",
    "        delta = pd.Timedelta(days=int(word.split('일')[0]))\n",
    "    elif '시간' in word:\n",
    "        delta = pd.Timedelta(hours=int(word.split('시간')[0]))\n",
    "    elif '분' in word:\n",
    "        delta = pd.Timedelta(minutes=int(word.split('분')[0]))\n",
    "\n",
    "    if '등록' in x:\n",
    "        row['resistered'] = row['update'] - delta\n",
    "    elif '수정' in x:\n",
    "        row['modified'] = row['update'] - delta\n",
    "    else:\n",
    "        pass\n",
    "    \n",
    "    return row\n",
    "\n",
    "df.apply(process_deadline, axis=1)\n"
   ]
  },
  {
   "cell_type": "code",
   "execution_count": null,
   "metadata": {},
   "outputs": [],
   "source": [
    "df.to_csv('saram.csv', index=False)"
   ]
  },
  {
   "cell_type": "markdown",
   "metadata": {},
   "source": [
    "# base 불러오기"
   ]
  },
  {
   "cell_type": "code",
   "execution_count": null,
   "metadata": {},
   "outputs": [],
   "source": [
    "\n",
    "df_old = pd.read_csv('saram.csv')"
   ]
  },
  {
   "cell_type": "markdown",
   "metadata": {},
   "source": [
    "# 사명 변경된 적 있는지"
   ]
  },
  {
   "cell_type": "code",
   "execution_count": null,
   "metadata": {},
   "outputs": [],
   "source": [
    "final_df = df[df.groupby('company_sn')['company_name'].transform('nunique') > 1].sort_values(by='job_idx')[['company_sn', 'company_name']].drop_duplicates()\n",
    "final_df['name_count'] = final_df.groupby('company_sn').cumcount() + 1\n",
    "final_df.pivot_table(columns='name_count', index='company_sn', values='company_name', aggfunc='first')\n"
   ]
  },
  {
   "cell_type": "markdown",
   "metadata": {},
   "source": [
    "# 목록에 표시된 해시태그\n",
    "- 하지만 각 공고마다 가지고 있는 태그 전체 내용이 아니다."
   ]
  },
  {
   "cell_type": "code",
   "execution_count": null,
   "metadata": {},
   "outputs": [],
   "source": [
    "df2 = df[['job_idx','job_sectors']]"
   ]
  },
  {
   "cell_type": "code",
   "execution_count": null,
   "metadata": {},
   "outputs": [],
   "source": [
    "df2.explode('job_sectors').groupby('job_sectors').size().sort_values(ascending=False).to_csv('job_sectors.csv')"
   ]
  },
  {
   "cell_type": "code",
   "execution_count": null,
   "metadata": {},
   "outputs": [],
   "source": [
    "df['job_link'] = df.job_link.apply(lambda x: f'https://www.saramin.co.kr{x}')"
   ]
  },
  {
   "cell_type": "code",
   "execution_count": null,
   "metadata": {},
   "outputs": [],
   "source": [
    "df.explode('job_sectors').groupby('job_sectors').get_group('크롤링')"
   ]
  }
 ],
 "metadata": {
  "kernelspec": {
   "display_name": ".venv",
   "language": "python",
   "name": "python3"
  },
  "language_info": {
   "codemirror_mode": {
    "name": "ipython",
    "version": 3
   },
   "file_extension": ".py",
   "mimetype": "text/x-python",
   "name": "python",
   "nbconvert_exporter": "python",
   "pygments_lexer": "ipython3",
   "version": "3.11.6"
  }
 },
 "nbformat": 4,
 "nbformat_minor": 2
}
