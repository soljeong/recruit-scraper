{
 "cells": [
  {
   "cell_type": "markdown",
   "metadata": {},
   "source": [
    "# 전체 선수 명단\n"
   ]
  },
  {
   "cell_type": "code",
   "execution_count": 11,
   "metadata": {},
   "outputs": [],
   "source": [
    "from selenium import webdriver\n",
    "driver = webdriver.Chrome()\n"
   ]
  },
  {
   "cell_type": "code",
   "execution_count": 12,
   "metadata": {},
   "outputs": [],
   "source": [
    "from selenium.webdriver.common.by import By\n",
    "driver.get(\"https://www.saramin.co.kr/zf_user/jobs/list/job-category?cat_mcls=2&page=1&page_count=100&sort=RD\")\n",
    "\n",
    "# driver.find_element(By.CSS_SELECTOR, \"#popupVideo > img\").click()\n"
   ]
  },
  {
   "cell_type": "code",
   "execution_count": 14,
   "metadata": {},
   "outputs": [
    {
     "data": {
      "text/plain": [
       "100"
      ]
     },
     "execution_count": 14,
     "metadata": {},
     "output_type": "execute_result"
    }
   ],
   "source": [
    "box_item_list=driver.find_elements(By.CSS_SELECTOR, 'div.box_item')\n",
    "len(box_item_list)\n"
   ]
  },
  {
   "cell_type": "code",
   "execution_count": 22,
   "metadata": {},
   "outputs": [
    {
     "data": {
      "text/plain": [
       "'위더스파트너스(주)'"
      ]
     },
     "execution_count": 22,
     "metadata": {},
     "output_type": "execute_result"
    }
   ],
   "source": [
    "box_item_list[0].find_element(By.CSS_SELECTOR, '.company_nm > a').text\n"
   ]
  },
  {
   "cell_type": "code",
   "execution_count": 23,
   "metadata": {},
   "outputs": [
    {
     "data": {
      "text/plain": [
       "'https://www.saramin.co.kr/zf_user/company-info/view-inner-recruit?csn=WTNQOWM3Y09vbFRkeHR0QWNnWGdTZz09'"
      ]
     },
     "execution_count": 23,
     "metadata": {},
     "output_type": "execute_result"
    }
   ],
   "source": [
    "box_item_list[0].find_element(By.CSS_SELECTOR, '.company_nm > a').get_attribute('href')\n"
   ]
  },
  {
   "cell_type": "code",
   "execution_count": 31,
   "metadata": {},
   "outputs": [
    {
     "data": {
      "text/plain": [
       "True"
      ]
     },
     "execution_count": 31,
     "metadata": {},
     "output_type": "execute_result"
    }
   ],
   "source": [
    "'헤드헌팅' in box_item_list[0].find_element(By.CSS_SELECTOR, \".company_nm\").text"
   ]
  },
  {
   "cell_type": "code",
   "execution_count": 34,
   "metadata": {},
   "outputs": [
    {
     "data": {
      "text/plain": [
       "'IT 인프라 네트워크 보안 / 반도체 회사 / 중국'"
      ]
     },
     "execution_count": 34,
     "metadata": {},
     "output_type": "execute_result"
    }
   ],
   "source": [
    "box_item_list[0].find_element(By.CSS_SELECTOR, '.notification_info a.str_tit').get_attribute('title')\n"
   ]
  },
  {
   "cell_type": "code",
   "execution_count": 35,
   "metadata": {},
   "outputs": [
    {
     "data": {
      "text/plain": [
       "'https://www.saramin.co.kr/zf_user/jobs/relay/view?view_type=list&rec_idx=47328963'"
      ]
     },
     "execution_count": 35,
     "metadata": {},
     "output_type": "execute_result"
    }
   ],
   "source": [
    "box_item_list[0].find_element(By.CSS_SELECTOR, '.notification_info a.str_tit').get_attribute('href')\n"
   ]
  },
  {
   "cell_type": "code",
   "execution_count": 38,
   "metadata": {},
   "outputs": [
    {
     "data": {
      "text/plain": [
       "['정보보안', '네트워크', '인프라']"
      ]
     },
     "execution_count": 38,
     "metadata": {},
     "output_type": "execute_result"
    }
   ],
   "source": [
    "[i.text for i in box_item_list[0].find_elements(By.CSS_SELECTOR, '.notification_info .job_meta .job_sector span')]\n"
   ]
  },
  {
   "cell_type": "code",
   "execution_count": 39,
   "metadata": {},
   "outputs": [
    {
     "data": {
      "text/plain": [
       "'아시아·중동 중국.홍콩'"
      ]
     },
     "execution_count": 39,
     "metadata": {},
     "output_type": "execute_result"
    }
   ],
   "source": [
    "box_item_list[0].find_element(By.CSS_SELECTOR, '.recruit_info .work_place').text\n"
   ]
  },
  {
   "cell_type": "code",
   "execution_count": 40,
   "metadata": {},
   "outputs": [
    {
     "data": {
      "text/plain": [
       "'4 ~ 12년 · 정규직'"
      ]
     },
     "execution_count": 40,
     "metadata": {},
     "output_type": "execute_result"
    }
   ],
   "source": [
    "box_item_list[0].find_element(By.CSS_SELECTOR, '.recruit_info .career').text\n"
   ]
  },
  {
   "cell_type": "code",
   "execution_count": 41,
   "metadata": {},
   "outputs": [
    {
     "data": {
      "text/plain": [
       "'대학교(4년)↑'"
      ]
     },
     "execution_count": 41,
     "metadata": {},
     "output_type": "execute_result"
    }
   ],
   "source": [
    "box_item_list[0].find_element(By.CSS_SELECTOR, '.recruit_info .education').text\n"
   ]
  },
  {
   "cell_type": "code",
   "execution_count": 42,
   "metadata": {},
   "outputs": [
    {
     "data": {
      "text/plain": [
       "'~02.07(수)'"
      ]
     },
     "execution_count": 42,
     "metadata": {},
     "output_type": "execute_result"
    }
   ],
   "source": [
    "box_item_list[0].find_element(By.CSS_SELECTOR, '.support_info .date').text\n"
   ]
  },
  {
   "cell_type": "code",
   "execution_count": 43,
   "metadata": {},
   "outputs": [
    {
     "data": {
      "text/plain": [
       "'30분 전 등록'"
      ]
     },
     "execution_count": 43,
     "metadata": {},
     "output_type": "execute_result"
    }
   ],
   "source": [
    "box_item_list[0].find_element(By.CSS_SELECTOR, '.support_info .deadlines').text\n"
   ]
  },
  {
   "cell_type": "code",
   "execution_count": 9,
   "metadata": {},
   "outputs": [
    {
     "ename": "TimeoutException",
     "evalue": "Message: \n",
     "output_type": "error",
     "traceback": [
      "\u001b[1;31m---------------------------------------------------------------------------\u001b[0m",
      "\u001b[1;31mTimeoutException\u001b[0m                          Traceback (most recent call last)",
      "Cell \u001b[1;32mIn[9], line 8\u001b[0m\n\u001b[0;32m      5\u001b[0m \u001b[38;5;28;01mfrom\u001b[39;00m \u001b[38;5;21;01mselenium\u001b[39;00m\u001b[38;5;21;01m.\u001b[39;00m\u001b[38;5;21;01mwebdriver\u001b[39;00m\u001b[38;5;21;01m.\u001b[39;00m\u001b[38;5;21;01mcommon\u001b[39;00m\u001b[38;5;21;01m.\u001b[39;00m\u001b[38;5;21;01mby\u001b[39;00m \u001b[38;5;28;01mimport\u001b[39;00m By\n\u001b[0;32m      7\u001b[0m wait \u001b[38;5;241m=\u001b[39m WebDriverWait(driver, \u001b[38;5;241m10\u001b[39m)\n\u001b[1;32m----> 8\u001b[0m button \u001b[38;5;241m=\u001b[39m \u001b[43mwait\u001b[49m\u001b[38;5;241;43m.\u001b[39;49m\u001b[43muntil\u001b[49m\u001b[43m(\u001b[49m\u001b[43mEC\u001b[49m\u001b[38;5;241;43m.\u001b[39;49m\u001b[43melement_to_be_clickable\u001b[49m\u001b[43m(\u001b[49m\u001b[43m(\u001b[49m\u001b[43mBy\u001b[49m\u001b[38;5;241;43m.\u001b[39;49m\u001b[43mCSS_SELECTOR\u001b[49m\u001b[43m,\u001b[49m\u001b[43m \u001b[49m\u001b[38;5;124;43m'\u001b[39;49m\u001b[38;5;124;43m#all_check_onedepth_2\u001b[39;49m\u001b[38;5;124;43m'\u001b[39;49m\u001b[43m)\u001b[49m\u001b[43m)\u001b[49m\u001b[43m)\u001b[49m\n\u001b[0;32m      9\u001b[0m button\u001b[38;5;241m.\u001b[39mclick()\n",
      "File \u001b[1;32mc:\\private\\python-crawl\\.venv\\Lib\\site-packages\\selenium\\webdriver\\support\\wait.py:105\u001b[0m, in \u001b[0;36mWebDriverWait.until\u001b[1;34m(self, method, message)\u001b[0m\n\u001b[0;32m    103\u001b[0m     \u001b[38;5;28;01mif\u001b[39;00m time\u001b[38;5;241m.\u001b[39mmonotonic() \u001b[38;5;241m>\u001b[39m end_time:\n\u001b[0;32m    104\u001b[0m         \u001b[38;5;28;01mbreak\u001b[39;00m\n\u001b[1;32m--> 105\u001b[0m \u001b[38;5;28;01mraise\u001b[39;00m TimeoutException(message, screen, stacktrace)\n",
      "\u001b[1;31mTimeoutException\u001b[0m: Message: \n"
     ]
    }
   ],
   "source": [
    "driver.find_element(By.CSS_SELECTOR, '[data-mcls_cd_no=\"2\"]').click()\n",
    "import time\n",
    "from selenium.webdriver.support.ui import WebDriverWait\n",
    "from selenium.webdriver.support import expected_conditions as EC\n",
    "from selenium.webdriver.common.by import By\n",
    "\n",
    "wait = WebDriverWait(driver, 10)\n",
    "button = wait.until(EC.element_to_be_clickable((By.CSS_SELECTOR, '#all_check_onedepth_2')))\n",
    "button.click()\n"
   ]
  },
  {
   "cell_type": "code",
   "execution_count": null,
   "metadata": {},
   "outputs": [],
   "source": [
    "#all_check_onedepth_2"
   ]
  },
  {
   "cell_type": "code",
   "execution_count": 3,
   "metadata": {},
   "outputs": [],
   "source": [
    "driver.find_element(\n",
    "    By.CSS_SELECTOR, \"#cphContents_cphContents_cphContents_ddlTeam\"\n",
    ").click()"
   ]
  },
  {
   "cell_type": "code",
   "execution_count": 7,
   "metadata": {},
   "outputs": [],
   "source": [
    "\n",
    "import time\n",
    "import re\n",
    "pattern = re.compile(\"playerId=([0-9]+)\")\n",
    "playid = []\n",
    "select_team = \"#cphContents_cphContents_cphContents_ddlTeam > option:nth-child({})\"\n",
    "select_page = \"#cphContents_cphContents_cphContents_ucPager_btnNo{}\"\n",
    "for x in range(2,12):\n",
    "    for_1 = select_team.format(x)\n",
    "    driver.find_element(By.CSS_SELECTOR, for_1).click()\n",
    "    time.sleep(2)\n",
    "    #playid.extend(pattern.findall(driver.page_source))\n",
    "    for y in range(1,6):\n",
    "        f2 = select_page.format(y)\n",
    "        try:\n",
    "            driver.find_element(By.CSS_SELECTOR, f2).click()\n",
    "            time.sleep(1)\n",
    "            playid.extend(pattern.findall(driver.page_source))\n",
    "        except Exception as e:\n",
    "            print (e)\n",
    "        time.sleep(2)\n"
   ]
  },
  {
   "cell_type": "code",
   "execution_count": 10,
   "metadata": {},
   "outputs": [],
   "source": [
    "driver.close()"
   ]
  },
  {
   "cell_type": "markdown",
   "metadata": {},
   "source": [
    "# 개별 선수 정보 조회"
   ]
  },
  {
   "cell_type": "code",
   "execution_count": 72,
   "metadata": {},
   "outputs": [],
   "source": [
    "import requests\n",
    "from bs4 import BeautifulSoup\n",
    "import pandas as pd\n",
    "from tqdm import tqdm"
   ]
  },
  {
   "cell_type": "code",
   "execution_count": 75,
   "metadata": {},
   "outputs": [
    {
     "name": "stderr",
     "output_type": "stream",
     "text": [
      "100%|██████████| 912/912 [13:51<00:00,  1.10it/s]\n"
     ]
    }
   ],
   "source": [
    "players = []\n",
    "\n",
    "for id in tqdm(playid):\n",
    "    url = f\"https://www.koreabaseball.com/Record/Player/PitcherDetail/Basic.aspx?playerId={id}\"\n",
    "    response = requests.get(url)\n",
    "    soup = BeautifulSoup(response.text, \"html.parser\")\n",
    "    player_basic_infos = soup.find(class_=\"player_basic\").find_all(\"span\")\n",
    "    edited_player_basic_infos = [info.text for info in player_basic_infos]\n",
    "    edited_player_basic_infos.append(id)\n",
    "    edited_player_basic_infos.append(soup.find(class_=\"team\").text)\n",
    "    players.append(edited_player_basic_infos)"
   ]
  },
  {
   "cell_type": "code",
   "execution_count": 76,
   "metadata": {},
   "outputs": [
    {
     "data": {
      "text/html": [
       "<div>\n",
       "<style scoped>\n",
       "    .dataframe tbody tr th:only-of-type {\n",
       "        vertical-align: middle;\n",
       "    }\n",
       "\n",
       "    .dataframe tbody tr th {\n",
       "        vertical-align: top;\n",
       "    }\n",
       "\n",
       "    .dataframe thead th {\n",
       "        text-align: right;\n",
       "    }\n",
       "</style>\n",
       "<table border=\"1\" class=\"dataframe\">\n",
       "  <thead>\n",
       "    <tr style=\"text-align: right;\">\n",
       "      <th></th>\n",
       "      <th>Name</th>\n",
       "      <th>BackNo</th>\n",
       "      <th>Birthday</th>\n",
       "      <th>Position</th>\n",
       "      <th>HeightWeight</th>\n",
       "      <th>Career</th>\n",
       "      <th>Payment</th>\n",
       "      <th>Salary</th>\n",
       "      <th>Draft</th>\n",
       "      <th>JoinInfo</th>\n",
       "      <th>Id</th>\n",
       "      <th>Team</th>\n",
       "    </tr>\n",
       "  </thead>\n",
       "  <tbody>\n",
       "    <tr>\n",
       "      <th>0</th>\n",
       "      <td>강민균</td>\n",
       "      <td>117</td>\n",
       "      <td>2000년 07월 17일</td>\n",
       "      <td>내야수(우투우타)</td>\n",
       "      <td>178cm/81kg</td>\n",
       "      <td>강남초-서울이수중-덕수고-홍익대</td>\n",
       "      <td>3000만원</td>\n",
       "      <td>3000만원</td>\n",
       "      <td>23 LG 11라운드 107순위</td>\n",
       "      <td></td>\n",
       "      <td>53103</td>\n",
       "      <td>LG 트윈스</td>\n",
       "    </tr>\n",
       "    <tr>\n",
       "      <th>1</th>\n",
       "      <td>강효종</td>\n",
       "      <td>59</td>\n",
       "      <td>2002년 10월 14일</td>\n",
       "      <td>투수(우투우타)</td>\n",
       "      <td>184cm/86kg</td>\n",
       "      <td>저동초(일산서구리틀)-충암중-충암고</td>\n",
       "      <td>20000만원</td>\n",
       "      <td>3300만원</td>\n",
       "      <td>21 LG 1차</td>\n",
       "      <td>21LG</td>\n",
       "      <td>51143</td>\n",
       "      <td>LG 트윈스</td>\n",
       "    </tr>\n",
       "    <tr>\n",
       "      <th>2</th>\n",
       "      <td>고우석</td>\n",
       "      <td>19</td>\n",
       "      <td>1998년 08월 06일</td>\n",
       "      <td>투수(우투우타)</td>\n",
       "      <td>182cm/90kg</td>\n",
       "      <td>갈산초-양천중-충암고</td>\n",
       "      <td>30000만원</td>\n",
       "      <td>43000만원</td>\n",
       "      <td>17 LG 1차</td>\n",
       "      <td>17LG</td>\n",
       "      <td>67119</td>\n",
       "      <td>LG 트윈스</td>\n",
       "    </tr>\n",
       "    <tr>\n",
       "      <th>3</th>\n",
       "      <td>곽민호</td>\n",
       "      <td>116</td>\n",
       "      <td>2004년 12월 23일</td>\n",
       "      <td>내야수(우투우타)</td>\n",
       "      <td>184cm/90kg</td>\n",
       "      <td>역삼초-자양중-배명고</td>\n",
       "      <td>3000만원</td>\n",
       "      <td>3000만원</td>\n",
       "      <td>23 LG 10라운드 97순위</td>\n",
       "      <td></td>\n",
       "      <td>53104</td>\n",
       "      <td>LG 트윈스</td>\n",
       "    </tr>\n",
       "    <tr>\n",
       "      <th>4</th>\n",
       "      <td>권동혁</td>\n",
       "      <td>68</td>\n",
       "      <td>2003년 03월 20일</td>\n",
       "      <td>외야수(우투우타)</td>\n",
       "      <td>194cm/97kg</td>\n",
       "      <td>(천안유소년리틀)-온양중-라온고</td>\n",
       "      <td>6000만원</td>\n",
       "      <td>3000만원</td>\n",
       "      <td>23 LG 6라운드 57순위</td>\n",
       "      <td>23LG</td>\n",
       "      <td>53168</td>\n",
       "      <td>LG 트윈스</td>\n",
       "    </tr>\n",
       "    <tr>\n",
       "      <th>...</th>\n",
       "      <td>...</td>\n",
       "      <td>...</td>\n",
       "      <td>...</td>\n",
       "      <td>...</td>\n",
       "      <td>...</td>\n",
       "      <td>...</td>\n",
       "      <td>...</td>\n",
       "      <td>...</td>\n",
       "      <td>...</td>\n",
       "      <td>...</td>\n",
       "      <td>...</td>\n",
       "      <td>...</td>\n",
       "    </tr>\n",
       "    <tr>\n",
       "      <th>907</th>\n",
       "      <td>주승빈</td>\n",
       "      <td>96</td>\n",
       "      <td>2004년 03월 06일</td>\n",
       "      <td>투수(좌투좌타)</td>\n",
       "      <td>182cm/84kg</td>\n",
       "      <td>구운초(수원권선구리틀)-영동중-서울고</td>\n",
       "      <td>5000만원</td>\n",
       "      <td>3000만원</td>\n",
       "      <td>22 키움 2차 5라운드 46순위</td>\n",
       "      <td></td>\n",
       "      <td>52396</td>\n",
       "      <td>고양 히어로즈</td>\n",
       "    </tr>\n",
       "    <tr>\n",
       "      <th>908</th>\n",
       "      <td>주승우</td>\n",
       "      <td>30</td>\n",
       "      <td>2000년 01월 30일</td>\n",
       "      <td>투수(우투우타)</td>\n",
       "      <td>185cm/82kg</td>\n",
       "      <td>송추초(의정부리틀)-영동중-서울고-성균관대</td>\n",
       "      <td>18000만원</td>\n",
       "      <td>3100만원</td>\n",
       "      <td>22 키움 1차</td>\n",
       "      <td>22키움</td>\n",
       "      <td>52330</td>\n",
       "      <td>키움 히어로즈</td>\n",
       "    </tr>\n",
       "    <tr>\n",
       "      <th>909</th>\n",
       "      <td>하영민</td>\n",
       "      <td>50</td>\n",
       "      <td>1995년 05월 07일</td>\n",
       "      <td>투수(우투우타)</td>\n",
       "      <td>180cm/74kg</td>\n",
       "      <td>광주수창초-진흥중-진흥고-히어로즈</td>\n",
       "      <td>15000만원</td>\n",
       "      <td>6500만원</td>\n",
       "      <td>14 넥센 2차 1라운드 4순위</td>\n",
       "      <td>14넥센</td>\n",
       "      <td>64350</td>\n",
       "      <td>키움 히어로즈</td>\n",
       "    </tr>\n",
       "    <tr>\n",
       "      <th>910</th>\n",
       "      <td>홍성민</td>\n",
       "      <td>67</td>\n",
       "      <td>1989년 07월 15일</td>\n",
       "      <td>투수(우언양타)</td>\n",
       "      <td>191cm/87kg</td>\n",
       "      <td>노암초-경포중-강릉고-한양대-KIA-롯데-경찰-롯데-NC</td>\n",
       "      <td>5000만원</td>\n",
       "      <td>10000만원</td>\n",
       "      <td>12 KIA 6라운드 56순위</td>\n",
       "      <td>12KIA</td>\n",
       "      <td>62655</td>\n",
       "      <td>키움 히어로즈</td>\n",
       "    </tr>\n",
       "    <tr>\n",
       "      <th>911</th>\n",
       "      <td>후라도</td>\n",
       "      <td>75</td>\n",
       "      <td>1996년 01월 30일</td>\n",
       "      <td>투수(우투우타)</td>\n",
       "      <td>188cm/109kg</td>\n",
       "      <td>파나마 San Judas Tadeo(고)</td>\n",
       "      <td></td>\n",
       "      <td>850000달러</td>\n",
       "      <td>23 키움 자유선발</td>\n",
       "      <td>23키움</td>\n",
       "      <td>53375</td>\n",
       "      <td>키움 히어로즈</td>\n",
       "    </tr>\n",
       "  </tbody>\n",
       "</table>\n",
       "<p>912 rows × 12 columns</p>\n",
       "</div>"
      ],
      "text/plain": [
       "    Name BackNo       Birthday   Position HeightWeight  \\\n",
       "0    강민균    117  2000년 07월 17일  내야수(우투우타)   178cm/81kg   \n",
       "1    강효종     59  2002년 10월 14일   투수(우투우타)   184cm/86kg   \n",
       "2    고우석     19  1998년 08월 06일   투수(우투우타)   182cm/90kg   \n",
       "3    곽민호    116  2004년 12월 23일  내야수(우투우타)   184cm/90kg   \n",
       "4    권동혁     68  2003년 03월 20일  외야수(우투우타)   194cm/97kg   \n",
       "..   ...    ...            ...        ...          ...   \n",
       "907  주승빈     96  2004년 03월 06일   투수(좌투좌타)   182cm/84kg   \n",
       "908  주승우     30  2000년 01월 30일   투수(우투우타)   185cm/82kg   \n",
       "909  하영민     50  1995년 05월 07일   투수(우투우타)   180cm/74kg   \n",
       "910  홍성민     67  1989년 07월 15일   투수(우언양타)   191cm/87kg   \n",
       "911  후라도     75  1996년 01월 30일   투수(우투우타)  188cm/109kg   \n",
       "\n",
       "                              Career  Payment    Salary               Draft  \\\n",
       "0                  강남초-서울이수중-덕수고-홍익대   3000만원    3000만원   23 LG 11라운드 107순위   \n",
       "1                저동초(일산서구리틀)-충암중-충암고  20000만원    3300만원            21 LG 1차   \n",
       "2                        갈산초-양천중-충암고  30000만원   43000만원            17 LG 1차   \n",
       "3                        역삼초-자양중-배명고   3000만원    3000만원    23 LG 10라운드 97순위   \n",
       "4                  (천안유소년리틀)-온양중-라온고   6000만원    3000만원     23 LG 6라운드 57순위   \n",
       "..                               ...      ...       ...                 ...   \n",
       "907             구운초(수원권선구리틀)-영동중-서울고   5000만원    3000만원  22 키움 2차 5라운드 46순위   \n",
       "908          송추초(의정부리틀)-영동중-서울고-성균관대  18000만원    3100만원            22 키움 1차   \n",
       "909               광주수창초-진흥중-진흥고-히어로즈  15000만원    6500만원   14 넥센 2차 1라운드 4순위   \n",
       "910  노암초-경포중-강릉고-한양대-KIA-롯데-경찰-롯데-NC   5000만원   10000만원    12 KIA 6라운드 56순위   \n",
       "911           파나마 San Judas Tadeo(고)           850000달러          23 키움 자유선발   \n",
       "\n",
       "    JoinInfo     Id     Team  \n",
       "0             53103   LG 트윈스  \n",
       "1       21LG  51143   LG 트윈스  \n",
       "2       17LG  67119   LG 트윈스  \n",
       "3             53104   LG 트윈스  \n",
       "4       23LG  53168   LG 트윈스  \n",
       "..       ...    ...      ...  \n",
       "907           52396  고양 히어로즈  \n",
       "908     22키움  52330  키움 히어로즈  \n",
       "909     14넥센  64350  키움 히어로즈  \n",
       "910    12KIA  62655  키움 히어로즈  \n",
       "911     23키움  53375  키움 히어로즈  \n",
       "\n",
       "[912 rows x 12 columns]"
      ]
     },
     "execution_count": 76,
     "metadata": {},
     "output_type": "execute_result"
    }
   ],
   "source": [
    "cols = [\n",
    "    \"Name\",\n",
    "    \"BackNo\",\n",
    "    \"Birthday\",\n",
    "    \"Position\",\n",
    "    \"HeightWeight\",\n",
    "    \"Career\",\n",
    "    \"Payment\",\n",
    "    \"Salary\",\n",
    "    \"Draft\",\n",
    "    \"JoinInfo\",\n",
    "    \"Id\",\n",
    "    \"Team\"\n",
    "]\n",
    "\n",
    "df = pd.DataFrame(players, columns=cols)\n",
    "df"
   ]
  },
  {
   "cell_type": "markdown",
   "metadata": {},
   "source": [
    "# 환산연봉"
   ]
  },
  {
   "cell_type": "code",
   "execution_count": 134,
   "metadata": {},
   "outputs": [
    {
     "data": {
      "text/html": [
       "<div>\n",
       "<style scoped>\n",
       "    .dataframe tbody tr th:only-of-type {\n",
       "        vertical-align: middle;\n",
       "    }\n",
       "\n",
       "    .dataframe tbody tr th {\n",
       "        vertical-align: top;\n",
       "    }\n",
       "\n",
       "    .dataframe thead th {\n",
       "        text-align: right;\n",
       "    }\n",
       "</style>\n",
       "<table border=\"1\" class=\"dataframe\">\n",
       "  <thead>\n",
       "    <tr style=\"text-align: right;\">\n",
       "      <th></th>\n",
       "      <th>Name</th>\n",
       "      <th>BackNo</th>\n",
       "      <th>Birthday</th>\n",
       "      <th>Position</th>\n",
       "      <th>HeightWeight</th>\n",
       "      <th>Career</th>\n",
       "      <th>Payment</th>\n",
       "      <th>Salary</th>\n",
       "      <th>Draft</th>\n",
       "      <th>JoinInfo</th>\n",
       "      <th>Id</th>\n",
       "      <th>Team</th>\n",
       "      <th>환산연봉</th>\n",
       "    </tr>\n",
       "  </thead>\n",
       "  <tbody>\n",
       "    <tr>\n",
       "      <th>0</th>\n",
       "      <td>강민균</td>\n",
       "      <td>117</td>\n",
       "      <td>2000년 07월 17일</td>\n",
       "      <td>내야수(우투우타)</td>\n",
       "      <td>178cm/81kg</td>\n",
       "      <td>강남초-서울이수중-덕수고-홍익대</td>\n",
       "      <td>3000만원</td>\n",
       "      <td>3000만원</td>\n",
       "      <td>23 LG 11라운드 107순위</td>\n",
       "      <td></td>\n",
       "      <td>53103</td>\n",
       "      <td>LG 트윈스</td>\n",
       "      <td>30000000</td>\n",
       "    </tr>\n",
       "    <tr>\n",
       "      <th>1</th>\n",
       "      <td>강효종</td>\n",
       "      <td>59</td>\n",
       "      <td>2002년 10월 14일</td>\n",
       "      <td>투수(우투우타)</td>\n",
       "      <td>184cm/86kg</td>\n",
       "      <td>저동초(일산서구리틀)-충암중-충암고</td>\n",
       "      <td>20000만원</td>\n",
       "      <td>3300만원</td>\n",
       "      <td>21 LG 1차</td>\n",
       "      <td>21LG</td>\n",
       "      <td>51143</td>\n",
       "      <td>LG 트윈스</td>\n",
       "      <td>33000000</td>\n",
       "    </tr>\n",
       "    <tr>\n",
       "      <th>2</th>\n",
       "      <td>고우석</td>\n",
       "      <td>19</td>\n",
       "      <td>1998년 08월 06일</td>\n",
       "      <td>투수(우투우타)</td>\n",
       "      <td>182cm/90kg</td>\n",
       "      <td>갈산초-양천중-충암고</td>\n",
       "      <td>30000만원</td>\n",
       "      <td>43000만원</td>\n",
       "      <td>17 LG 1차</td>\n",
       "      <td>17LG</td>\n",
       "      <td>67119</td>\n",
       "      <td>LG 트윈스</td>\n",
       "      <td>430000000</td>\n",
       "    </tr>\n",
       "    <tr>\n",
       "      <th>3</th>\n",
       "      <td>곽민호</td>\n",
       "      <td>116</td>\n",
       "      <td>2004년 12월 23일</td>\n",
       "      <td>내야수(우투우타)</td>\n",
       "      <td>184cm/90kg</td>\n",
       "      <td>역삼초-자양중-배명고</td>\n",
       "      <td>3000만원</td>\n",
       "      <td>3000만원</td>\n",
       "      <td>23 LG 10라운드 97순위</td>\n",
       "      <td></td>\n",
       "      <td>53104</td>\n",
       "      <td>LG 트윈스</td>\n",
       "      <td>30000000</td>\n",
       "    </tr>\n",
       "    <tr>\n",
       "      <th>4</th>\n",
       "      <td>권동혁</td>\n",
       "      <td>68</td>\n",
       "      <td>2003년 03월 20일</td>\n",
       "      <td>외야수(우투우타)</td>\n",
       "      <td>194cm/97kg</td>\n",
       "      <td>(천안유소년리틀)-온양중-라온고</td>\n",
       "      <td>6000만원</td>\n",
       "      <td>3000만원</td>\n",
       "      <td>23 LG 6라운드 57순위</td>\n",
       "      <td>23LG</td>\n",
       "      <td>53168</td>\n",
       "      <td>LG 트윈스</td>\n",
       "      <td>30000000</td>\n",
       "    </tr>\n",
       "    <tr>\n",
       "      <th>...</th>\n",
       "      <td>...</td>\n",
       "      <td>...</td>\n",
       "      <td>...</td>\n",
       "      <td>...</td>\n",
       "      <td>...</td>\n",
       "      <td>...</td>\n",
       "      <td>...</td>\n",
       "      <td>...</td>\n",
       "      <td>...</td>\n",
       "      <td>...</td>\n",
       "      <td>...</td>\n",
       "      <td>...</td>\n",
       "      <td>...</td>\n",
       "    </tr>\n",
       "    <tr>\n",
       "      <th>907</th>\n",
       "      <td>주승빈</td>\n",
       "      <td>96</td>\n",
       "      <td>2004년 03월 06일</td>\n",
       "      <td>투수(좌투좌타)</td>\n",
       "      <td>182cm/84kg</td>\n",
       "      <td>구운초(수원권선구리틀)-영동중-서울고</td>\n",
       "      <td>5000만원</td>\n",
       "      <td>3000만원</td>\n",
       "      <td>22 키움 2차 5라운드 46순위</td>\n",
       "      <td></td>\n",
       "      <td>52396</td>\n",
       "      <td>고양 히어로즈</td>\n",
       "      <td>30000000</td>\n",
       "    </tr>\n",
       "    <tr>\n",
       "      <th>908</th>\n",
       "      <td>주승우</td>\n",
       "      <td>30</td>\n",
       "      <td>2000년 01월 30일</td>\n",
       "      <td>투수(우투우타)</td>\n",
       "      <td>185cm/82kg</td>\n",
       "      <td>송추초(의정부리틀)-영동중-서울고-성균관대</td>\n",
       "      <td>18000만원</td>\n",
       "      <td>3100만원</td>\n",
       "      <td>22 키움 1차</td>\n",
       "      <td>22키움</td>\n",
       "      <td>52330</td>\n",
       "      <td>키움 히어로즈</td>\n",
       "      <td>31000000</td>\n",
       "    </tr>\n",
       "    <tr>\n",
       "      <th>909</th>\n",
       "      <td>하영민</td>\n",
       "      <td>50</td>\n",
       "      <td>1995년 05월 07일</td>\n",
       "      <td>투수(우투우타)</td>\n",
       "      <td>180cm/74kg</td>\n",
       "      <td>광주수창초-진흥중-진흥고-히어로즈</td>\n",
       "      <td>15000만원</td>\n",
       "      <td>6500만원</td>\n",
       "      <td>14 넥센 2차 1라운드 4순위</td>\n",
       "      <td>14넥센</td>\n",
       "      <td>64350</td>\n",
       "      <td>키움 히어로즈</td>\n",
       "      <td>65000000</td>\n",
       "    </tr>\n",
       "    <tr>\n",
       "      <th>910</th>\n",
       "      <td>홍성민</td>\n",
       "      <td>67</td>\n",
       "      <td>1989년 07월 15일</td>\n",
       "      <td>투수(우언양타)</td>\n",
       "      <td>191cm/87kg</td>\n",
       "      <td>노암초-경포중-강릉고-한양대-KIA-롯데-경찰-롯데-NC</td>\n",
       "      <td>5000만원</td>\n",
       "      <td>10000만원</td>\n",
       "      <td>12 KIA 6라운드 56순위</td>\n",
       "      <td>12KIA</td>\n",
       "      <td>62655</td>\n",
       "      <td>키움 히어로즈</td>\n",
       "      <td>100000000</td>\n",
       "    </tr>\n",
       "    <tr>\n",
       "      <th>911</th>\n",
       "      <td>후라도</td>\n",
       "      <td>75</td>\n",
       "      <td>1996년 01월 30일</td>\n",
       "      <td>투수(우투우타)</td>\n",
       "      <td>188cm/109kg</td>\n",
       "      <td>파나마 San Judas Tadeo(고)</td>\n",
       "      <td></td>\n",
       "      <td>850000달러</td>\n",
       "      <td>23 키움 자유선발</td>\n",
       "      <td>23키움</td>\n",
       "      <td>53375</td>\n",
       "      <td>키움 히어로즈</td>\n",
       "      <td>1114350000</td>\n",
       "    </tr>\n",
       "  </tbody>\n",
       "</table>\n",
       "<p>912 rows × 13 columns</p>\n",
       "</div>"
      ],
      "text/plain": [
       "    Name BackNo       Birthday   Position HeightWeight  \\\n",
       "0    강민균    117  2000년 07월 17일  내야수(우투우타)   178cm/81kg   \n",
       "1    강효종     59  2002년 10월 14일   투수(우투우타)   184cm/86kg   \n",
       "2    고우석     19  1998년 08월 06일   투수(우투우타)   182cm/90kg   \n",
       "3    곽민호    116  2004년 12월 23일  내야수(우투우타)   184cm/90kg   \n",
       "4    권동혁     68  2003년 03월 20일  외야수(우투우타)   194cm/97kg   \n",
       "..   ...    ...            ...        ...          ...   \n",
       "907  주승빈     96  2004년 03월 06일   투수(좌투좌타)   182cm/84kg   \n",
       "908  주승우     30  2000년 01월 30일   투수(우투우타)   185cm/82kg   \n",
       "909  하영민     50  1995년 05월 07일   투수(우투우타)   180cm/74kg   \n",
       "910  홍성민     67  1989년 07월 15일   투수(우언양타)   191cm/87kg   \n",
       "911  후라도     75  1996년 01월 30일   투수(우투우타)  188cm/109kg   \n",
       "\n",
       "                              Career  Payment    Salary               Draft  \\\n",
       "0                  강남초-서울이수중-덕수고-홍익대   3000만원    3000만원   23 LG 11라운드 107순위   \n",
       "1                저동초(일산서구리틀)-충암중-충암고  20000만원    3300만원            21 LG 1차   \n",
       "2                        갈산초-양천중-충암고  30000만원   43000만원            17 LG 1차   \n",
       "3                        역삼초-자양중-배명고   3000만원    3000만원    23 LG 10라운드 97순위   \n",
       "4                  (천안유소년리틀)-온양중-라온고   6000만원    3000만원     23 LG 6라운드 57순위   \n",
       "..                               ...      ...       ...                 ...   \n",
       "907             구운초(수원권선구리틀)-영동중-서울고   5000만원    3000만원  22 키움 2차 5라운드 46순위   \n",
       "908          송추초(의정부리틀)-영동중-서울고-성균관대  18000만원    3100만원            22 키움 1차   \n",
       "909               광주수창초-진흥중-진흥고-히어로즈  15000만원    6500만원   14 넥센 2차 1라운드 4순위   \n",
       "910  노암초-경포중-강릉고-한양대-KIA-롯데-경찰-롯데-NC   5000만원   10000만원    12 KIA 6라운드 56순위   \n",
       "911           파나마 San Judas Tadeo(고)           850000달러          23 키움 자유선발   \n",
       "\n",
       "    JoinInfo     Id     Team        환산연봉  \n",
       "0             53103   LG 트윈스    30000000  \n",
       "1       21LG  51143   LG 트윈스    33000000  \n",
       "2       17LG  67119   LG 트윈스   430000000  \n",
       "3             53104   LG 트윈스    30000000  \n",
       "4       23LG  53168   LG 트윈스    30000000  \n",
       "..       ...    ...      ...         ...  \n",
       "907           52396  고양 히어로즈    30000000  \n",
       "908     22키움  52330  키움 히어로즈    31000000  \n",
       "909     14넥센  64350  키움 히어로즈    65000000  \n",
       "910    12KIA  62655  키움 히어로즈   100000000  \n",
       "911     23키움  53375  키움 히어로즈  1114350000  \n",
       "\n",
       "[912 rows x 13 columns]"
      ]
     },
     "execution_count": 134,
     "metadata": {},
     "output_type": "execute_result"
    }
   ],
   "source": [
    "def calculate_conversion(row):\n",
    "    if row[2] == \"달러\":\n",
    "        return int(row[1]) * 1311\n",
    "    elif row[2] == \"만원\":\n",
    "        return int(row[1]) * 10000\n",
    "    else:\n",
    "        return 0\n",
    "\n",
    "df1 = df.Salary.str.split(\"(\\d+)\", expand=True)\n",
    "df[\"환산연봉\"] = df1.apply(calculate_conversion, axis=1)\n",
    "df"
   ]
  },
  {
   "cell_type": "markdown",
   "metadata": {},
   "source": [
    "# 파일로 출력"
   ]
  },
  {
   "cell_type": "code",
   "execution_count": 162,
   "metadata": {},
   "outputs": [],
   "source": [
    "for index, row in df.iterrows():\n",
    "    id = row['Id']\n",
    "    pd.DataFrame([row]).to_csv(f'./csv/player_info_{id}.csv', index=False, encoding='utf-8-sig')"
   ]
  }
 ],
 "metadata": {
  "kernelspec": {
   "display_name": ".venv",
   "language": "python",
   "name": "python3"
  },
  "language_info": {
   "codemirror_mode": {
    "name": "ipython",
    "version": 3
   },
   "file_extension": ".py",
   "mimetype": "text/x-python",
   "name": "python",
   "nbconvert_exporter": "python",
   "pygments_lexer": "ipython3",
   "version": "3.11.5"
  }
 },
 "nbformat": 4,
 "nbformat_minor": 2
}
