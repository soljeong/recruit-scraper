{
 "cells": [
  {
   "cell_type": "code",
   "execution_count": 27,
   "metadata": {},
   "outputs": [
    {
     "name": "stdout",
     "output_type": "stream",
     "text": [
      "1\n",
      "2\n",
      "3\n",
      "4\n",
      "5\n",
      "6\n",
      "7\n",
      "8\n",
      "9\n",
      "10\n"
     ]
    }
   ],
   "source": [
    "from selenium import webdriver\n",
    "driver = webdriver.Chrome()\n",
    "\n",
    "from selenium.webdriver.common.by import By\n",
    "import time\n",
    "\n",
    "data = []\n",
    "\n",
    "for page in range(1, 11):\n",
    "    url = f\"https://www.saramin.co.kr/zf_user/jobs/list/job-category?cat_mcls=2&page={page}&page_count=100&sort=RD\"\n",
    "    driver.get(url)\n",
    "    time.sleep(10)  # Adding a delay to let the page load\n",
    "\n",
    "    box_item_list=driver.find_elements(By.CSS_SELECTOR, 'div.box_item')\n",
    "\n",
    "    for box_item in box_item_list:\n",
    "        temp = {}\n",
    "        temp['company_name'] = box_item.find_element(By.CSS_SELECTOR, '.company_nm > .str_tit').text\n",
    "        # temp['company_link'] = box_item.find_element(By.CSS_SELECTOR, '.company_nm > a').get_attribute('href')\n",
    "        temp['is_headhunting'] = '헤드헌팅' in box_item.find_element(By.CSS_SELECTOR, \".company_nm\").text\n",
    "        temp['job_title'] = box_item.find_element(By.CSS_SELECTOR, '.notification_info a.str_tit').get_attribute('title')\n",
    "        temp['job_link'] = box_item.find_element(By.CSS_SELECTOR, '.notification_info a.str_tit').get_attribute('href')\n",
    "        temp['job_sectors'] = [i.text for i in box_item.find_elements(By.CSS_SELECTOR, '.notification_info .job_meta .job_sector span')]\n",
    "        temp['work_place'] = box_item.find_element(By.CSS_SELECTOR, '.recruit_info .work_place').text\n",
    "        temp['career_info'] = box_item.find_element(By.CSS_SELECTOR, '.recruit_info .career').text\n",
    "        temp['education_info'] = box_item.find_element(By.CSS_SELECTOR, '.recruit_info .education').text\n",
    "        temp['support_date'] = box_item.find_element(By.CSS_SELECTOR, '.support_info .date').text\n",
    "        temp['deadline'] = box_item.find_element(By.CSS_SELECTOR, '.support_info .deadlines').text\n",
    "        data.append(temp)\n",
    "\n",
    "    print(page)\n"
   ]
  },
  {
   "cell_type": "code",
   "execution_count": 28,
   "metadata": {},
   "outputs": [],
   "source": [
    "import pandas as pd\n",
    "df = pd.DataFrame(data)\n",
    "df.to_clipboard()\n",
    "df.to_csv('saram.csv')\n"
   ]
  },
  {
   "cell_type": "code",
   "execution_count": null,
   "metadata": {},
   "outputs": [],
   "source": [
    "driver.get(url)\n"
   ]
  },
  {
   "cell_type": "code",
   "execution_count": null,
   "metadata": {},
   "outputs": [],
   "source": [
    "len(box_item_list)"
   ]
  },
  {
   "cell_type": "code",
   "execution_count": 23,
   "metadata": {},
   "outputs": [
    {
     "data": {
      "text/plain": [
       "'(주)커리어라이즈'"
      ]
     },
     "execution_count": 23,
     "metadata": {},
     "output_type": "execute_result"
    }
   ],
   "source": [
    "box_item_list[0].find_element(By.CSS_SELECTOR, '.company_nm > .str_tit').text"
   ]
  },
  {
   "cell_type": "code",
   "execution_count": null,
   "metadata": {},
   "outputs": [],
   "source": [
    "driver.find_element(By.CSS_SELECTOR, '[data-mcls_cd_no=\"2\"]').click()\n",
    "import time\n",
    "from selenium.webdriver.support.ui import WebDriverWait\n",
    "from selenium.webdriver.support import expected_conditions as EC\n",
    "from selenium.webdriver.common.by import By\n",
    "\n",
    "wait = WebDriverWait(driver, 10)\n",
    "button = wait.until(EC.element_to_be_clickable((By.CSS_SELECTOR, '#all_check_onedepth_2')))\n",
    "button.click()\n"
   ]
  },
  {
   "cell_type": "code",
   "execution_count": null,
   "metadata": {},
   "outputs": [],
   "source": [
    "#all_check_onedepth_2"
   ]
  },
  {
   "cell_type": "code",
   "execution_count": null,
   "metadata": {},
   "outputs": [],
   "source": [
    "driver.find_element(\n",
    "    By.CSS_SELECTOR, \"#cphContents_cphContents_cphContents_ddlTeam\"\n",
    ").click()"
   ]
  },
  {
   "cell_type": "code",
   "execution_count": null,
   "metadata": {},
   "outputs": [],
   "source": [
    "\n",
    "import time\n",
    "import re\n",
    "pattern = re.compile(\"playerId=([0-9]+)\")\n",
    "playid = []\n",
    "select_team = \"#cphContents_cphContents_cphContents_ddlTeam > option:nth-child({})\"\n",
    "select_page = \"#cphContents_cphContents_cphContents_ucPager_btnNo{}\"\n",
    "for x in range(2,12):\n",
    "    for_1 = select_team.format(x)\n",
    "    driver.find_element(By.CSS_SELECTOR, for_1).click()\n",
    "    time.sleep(2)\n",
    "    #playid.extend(pattern.findall(driver.page_source))\n",
    "    for y in range(1,6):\n",
    "        f2 = select_page.format(y)\n",
    "        try:\n",
    "            driver.find_element(By.CSS_SELECTOR, f2).click()\n",
    "            time.sleep(1)\n",
    "            playid.extend(pattern.findall(driver.page_source))\n",
    "        except Exception as e:\n",
    "            print (e)\n",
    "        time.sleep(2)\n"
   ]
  },
  {
   "cell_type": "code",
   "execution_count": null,
   "metadata": {},
   "outputs": [],
   "source": [
    "driver.close()"
   ]
  },
  {
   "cell_type": "markdown",
   "metadata": {},
   "source": [
    "# 개별 선수 정보 조회"
   ]
  },
  {
   "cell_type": "code",
   "execution_count": null,
   "metadata": {},
   "outputs": [],
   "source": [
    "import requests\n",
    "from bs4 import BeautifulSoup\n",
    "import pandas as pd\n",
    "from tqdm import tqdm"
   ]
  },
  {
   "cell_type": "code",
   "execution_count": null,
   "metadata": {},
   "outputs": [],
   "source": [
    "players = []\n",
    "\n",
    "for id in tqdm(playid):\n",
    "    url = f\"https://www.koreabaseball.com/Record/Player/PitcherDetail/Basic.aspx?playerId={id}\"\n",
    "    response = requests.get(url)\n",
    "    soup = BeautifulSoup(response.text, \"html.parser\")\n",
    "    player_basic_infos = soup.find(class_=\"player_basic\").find_all(\"span\")\n",
    "    edited_player_basic_infos = [info.text for info in player_basic_infos]\n",
    "    edited_player_basic_infos.append(id)\n",
    "    edited_player_basic_infos.append(soup.find(class_=\"team\").text)\n",
    "    players.append(edited_player_basic_infos)"
   ]
  },
  {
   "cell_type": "code",
   "execution_count": null,
   "metadata": {},
   "outputs": [],
   "source": [
    "cols = [\n",
    "    \"Name\",\n",
    "    \"BackNo\",\n",
    "    \"Birthday\",\n",
    "    \"Position\",\n",
    "    \"HeightWeight\",\n",
    "    \"Career\",\n",
    "    \"Payment\",\n",
    "    \"Salary\",\n",
    "    \"Draft\",\n",
    "    \"JoinInfo\",\n",
    "    \"Id\",\n",
    "    \"Team\"\n",
    "]\n",
    "\n",
    "df = pd.DataFrame(players, columns=cols)\n",
    "df"
   ]
  },
  {
   "cell_type": "markdown",
   "metadata": {},
   "source": [
    "# 환산연봉"
   ]
  },
  {
   "cell_type": "code",
   "execution_count": null,
   "metadata": {},
   "outputs": [],
   "source": [
    "def calculate_conversion(row):\n",
    "    if row[2] == \"달러\":\n",
    "        return int(row[1]) * 1311\n",
    "    elif row[2] == \"만원\":\n",
    "        return int(row[1]) * 10000\n",
    "    else:\n",
    "        return 0\n",
    "\n",
    "df1 = df.Salary.str.split(\"(\\d+)\", expand=True)\n",
    "df[\"환산연봉\"] = df1.apply(calculate_conversion, axis=1)\n",
    "df"
   ]
  },
  {
   "cell_type": "markdown",
   "metadata": {},
   "source": [
    "# 파일로 출력"
   ]
  },
  {
   "cell_type": "code",
   "execution_count": null,
   "metadata": {},
   "outputs": [],
   "source": [
    "for index, row in df.iterrows():\n",
    "    id = row['Id']\n",
    "    pd.DataFrame([row]).to_csv(f'./csv/player_info_{id}.csv', index=False, encoding='utf-8-sig')"
   ]
  }
 ],
 "metadata": {
  "kernelspec": {
   "display_name": ".venv",
   "language": "python",
   "name": "python3"
  },
  "language_info": {
   "codemirror_mode": {
    "name": "ipython",
    "version": 3
   },
   "file_extension": ".py",
   "mimetype": "text/x-python",
   "name": "python",
   "nbconvert_exporter": "python",
   "pygments_lexer": "ipython3",
   "version": "3.11.5"
  }
 },
 "nbformat": 4,
 "nbformat_minor": 2
}
