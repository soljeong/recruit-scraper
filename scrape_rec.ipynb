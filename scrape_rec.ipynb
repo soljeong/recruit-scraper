{
 "cells": [
  {
   "cell_type": "markdown",
   "metadata": {},
   "source": [
    "# 새 데이터 가져오기"
   ]
  },
  {
   "cell_type": "code",
   "execution_count": 30,
   "metadata": {},
   "outputs": [],
   "source": [
    "import requests \n",
    "from bs4 import BeautifulSoup\n",
    "import pandas as pd"
   ]
  },
  {
   "cell_type": "code",
   "execution_count": 31,
   "metadata": {},
   "outputs": [
    {
     "name": "stdout",
     "output_type": "stream",
     "text": [
      "1\n",
      "2\n"
     ]
    }
   ],
   "source": [
    "head = {'User-Agent':\n",
    "'Mozilla/5.0 (Windows NT 10.0; Win64; x64) AppleWebKit/537.36 (KHTML, like Gecko) Chrome/121.0.0.0 Safari/537.36 Edg/121.0.0.0'}\n",
    "data = []\n",
    "with requests.Session() as s:\n",
    "    for page in range(1,3):\n",
    "        url = f\"https://www.saramin.co.kr/zf_user/jobs/list/job-category?cat_mcls=2&page={page}&page_count=1000&sort=RD\"\n",
    "        r = s.get(url, headers=head)\n",
    "        data.append(r)\n",
    "        print(page)\n",
    "        if r.status_code != 200:\n",
    "            break\n"
   ]
  },
  {
   "cell_type": "code",
   "execution_count": 32,
   "metadata": {},
   "outputs": [],
   "source": [
    "item_list = []\n",
    "for r in data:\n",
    "    soup = BeautifulSoup(r.text)\n",
    "    box_item_list = soup.select('div.box_item')\n",
    "\n",
    "\n",
    "    for box_item in box_item_list:\n",
    "        temp = {}\n",
    "        temp['company_name'] = box_item.select_one('.company_nm > .str_tit').text.strip()\n",
    "        temp['company_sn'] = box_item.select_one('.interested_corp')['csn']\n",
    "        temp['is_headhunting'] = '헤드헌팅' in box_item.select_one(\".company_nm\").text\n",
    "        temp['job_idx'] = int(box_item.find('button', attrs={'rec_idx': True})['rec_idx'])\n",
    "        temp['job_title'] = box_item.select_one('.notification_info a.str_tit')['title']\n",
    "        temp['job_link'] = box_item.select_one('.notification_info a.str_tit')['href']\n",
    "        temp['job_sectors'] = [i.text for i in box_item.select('.notification_info .job_meta .job_sector span')]\n",
    "        work_place_element = box_item.select_one('.recruit_info .work_place')\n",
    "        temp['work_place'] = work_place_element.text if work_place_element is not None else None\n",
    "        temp['career_info'] = box_item.select_one('.recruit_info .career').text\n",
    "        temp['education_info'] = box_item.select_one('.recruit_info .education').text\n",
    "        temp['support_date'] = box_item.select_one('.support_info .date').text\n",
    "        temp['deadline'] = box_item.select_one('.support_info .deadlines').text\n",
    "        item_list.append(temp)\n"
   ]
  },
  {
   "cell_type": "markdown",
   "metadata": {},
   "source": [
    "# 새 시트 만들기"
   ]
  },
  {
   "cell_type": "code",
   "execution_count": 35,
   "metadata": {},
   "outputs": [],
   "source": [
    "df_new = pd.DataFrame(item_list)\n",
    "df_new[\"update\"] = pd.to_datetime(\"now\")\n",
    "df_new[\"job_link\"] = df_new.job_link.apply(lambda x: f\"https://www.saramin.co.kr{x}\")\n",
    "\n",
    "\n",
    "def process_deadline(row):\n",
    "    x = row[\"deadline\"]\n",
    "\n",
    "    word = x.split(\" \")[0]\n",
    "\n",
    "    if \"일\" in word:\n",
    "        delta = pd.Timedelta(days=int(word.split(\"일\")[0]))\n",
    "    elif \"시간\" in word:\n",
    "        delta = pd.Timedelta(hours=int(word.split(\"시간\")[0]))\n",
    "    elif \"분\" in word:\n",
    "        delta = pd.Timedelta(minutes=int(word.split(\"분\")[0]))\n",
    "\n",
    "    if \"등록\" in x:\n",
    "        row[\"resistered\"] = row[\"update\"] - delta\n",
    "    elif \"수정\" in x:\n",
    "        row[\"modified\"] = row[\"update\"] - delta\n",
    "    else:\n",
    "        pass\n",
    "\n",
    "    return row\n",
    "\n",
    "\n",
    "df_new = df_new.apply(process_deadline, axis=1)\n",
    "\n",
    "df_new.set_index(\"job_idx\", inplace=True)\n"
   ]
  },
  {
   "cell_type": "markdown",
   "metadata": {},
   "source": [
    "# eda\n",
    "## 사명 변경된 적 있는지\n",
    "```\n",
    "final_df = df[df.groupby('company_sn')['company_name'].transform('nunique') > 1].sort_values(by='job_idx')[['company_sn', 'company_name']].drop_duplicates()\n",
    "final_df['name_count'] = final_df.groupby('company_sn').cumcount() + 1\n",
    "final_df.pivot_table(columns='name_count', index='company_sn', values='company_name', aggfunc='first')\n",
    "```\n",
    "\n",
    "## 목록에 표시된 해시태그\n",
    "- 하지만 각 공고마다 가지고 있는 태그 전체 내용이 아니다.\n",
    "```\n",
    "df2 = df[['job_idx','job_sectors']]\n",
    "df2.explode('job_sectors').groupby('job_sectors').size().sort_values(ascending=False).to_csv('job_sectors.csv')\n",
    "df.explode('job_sectors').groupby('job_sectors').get_group('크롤링')"
   ]
  },
  {
   "cell_type": "markdown",
   "metadata": {},
   "source": [
    "## jobsector 데이터가 조회할때마다 달라지는지 확인 필요\n",
    "- 다섯개 이상 선택해도 리스트에 표시되지 않음\n",
    "- 지정된 우선순위 순서로 표시되는지 아니면 조회할때마다 무작위로 5개 선택하는지 확인 필요"
   ]
  },
  {
   "cell_type": "markdown",
   "metadata": {},
   "source": [
    "# 구글 시트에서 이전 시트 가져오기"
   ]
  },
  {
   "cell_type": "code",
   "execution_count": null,
   "metadata": {},
   "outputs": [],
   "source": [
    "import gspread\n",
    "from gspread_dataframe import get_as_dataframe, set_with_dataframe\n",
    "\n",
    "gc = gspread.service_account()\n",
    "\n",
    "sh=gc.open_by_key('1vkZ7FF1bgACwXKxkmSNemmSNiti4Bd2M177w-8H80ww').sheet1\n",
    "\n",
    "\n",
    "\n",
    "\n",
    "# modified          datetime64[ns]\n",
    "# resistered        datetime64[ns]\n",
    "# update            datetime64[ns]\n",
    "# df_old의 세가지 열 데이터타입 변경\n",
    "\n",
    "\n",
    "df_old = get_as_dataframe(sh, evaluate_formulas=False)\n",
    "df_old.dropna(subset=['job_idx'], inplace=True)\n",
    "df_old['job_idx'] = df_old['job_idx'].astype(int)\n",
    "df_old.set_index('job_idx', inplace=True)\n",
    "df_old['is_headhunting'] = df_old['is_headhunting'].astype(bool)\n",
    "df_old[\"modified\"] = pd.to_datetime(df_old[\"modified\"])\n",
    "df_old[\"resistered\"] = pd.to_datetime(df_old[\"resistered\"])\n",
    "df_old[\"update\"] = pd.to_datetime(df_old[\"update\"])\n",
    "df_old"
   ]
  },
  {
   "cell_type": "markdown",
   "metadata": {},
   "source": [
    "# 새시트, 이전시트 병합\n",
    "- jobsector 열 리스트 확장\n",
    "- 제목 변경되는 경우 특이 케이스로 보고 따로 표시\n",
    "- 수정일 : 새 시트 우선\n",
    "- 작성일 : 이전 시트 우선, 원래 없다가 새로 생겨나는 경우 없을듯\n",
    "- update 열 : 마지막으로 조회한 시간, 새 시트 우선\n",
    "- 어떻게 합치는게 세련된 방법인지 모르겠다\n",
    "\n",
    "- old에서 안쓰는 열은 드롭? 안돼 그러면 아우터가 아니니까\n",
    "\n",
    "- 작성일 관측 불가면 어떻게 할지?"
   ]
  },
  {
   "cell_type": "code",
   "execution_count": 39,
   "metadata": {},
   "outputs": [],
   "source": [
    "combined_df = df_new.combine_first(df_old)\n"
   ]
  },
  {
   "cell_type": "code",
   "execution_count": 40,
   "metadata": {},
   "outputs": [],
   "source": [
    "# resistered가 비어있는 경우, modified로 채우기\n",
    "combined_df[\"resistered\"] = combined_df[\"resistered\"].combine_first(combined_df[\"modified\"])"
   ]
  },
  {
   "cell_type": "code",
   "execution_count": 43,
   "metadata": {},
   "outputs": [],
   "source": [
    "assert combined_df.shape[1] == 14, \"The number of columns is not 14.\"\n",
    "print(\"The number of columns is 14.\")"
   ]
  },
  {
   "cell_type": "markdown",
   "metadata": {},
   "source": [
    "# Merge the dataframes\n",
    "merged_df = pd.merge(df_old, df_new, how='outer', on=['job_idx'])\n",
    "\n",
    "# Apply conditions to overlapping parts\n",
    "# modified new 우선, resistered old 우선, update new 우선\n",
    "\n",
    "merged_df[\"resistered\"] = merged_df[\"resistered_x\"].fillna(merged_df[\"resistered_y\"])\n",
    "merged_df[\"modified\"] = merged_df[\"modified_x\"].fillna(merged_df[\"modified_y\"])\n",
    "merged_df[\"update\"] = merged_df[\"update_y\"].fillna(merged_df[\"update_x\"])\n",
    "\n",
    "# Drop the columns\n",
    "merged_df = merged_df.drop(columns=[\"resistered_x\", \"resistered_y\", \"modified_x\", \"modified_y\", \"update_x\", \"update_y\"])\n",
    "merged_df"
   ]
  },
  {
   "cell_type": "markdown",
   "metadata": {},
   "source": [
    "# 새 시트로 덮어쓰기"
   ]
  },
  {
   "cell_type": "code",
   "execution_count": 44,
   "metadata": {},
   "outputs": [],
   "source": [
    "# Clear the contents of the sheet\n",
    "sh.clear()\n",
    "\n",
    "# Set the new dataframe in the sheet\n",
    "set_with_dataframe(sh, combined_df, include_index=True, allow_formulas=False)\n"
   ]
  }
 ],
 "metadata": {
  "kernelspec": {
   "display_name": ".venv",
   "language": "python",
   "name": "python3"
  },
  "language_info": {
   "codemirror_mode": {
    "name": "ipython",
    "version": 3
   },
   "file_extension": ".py",
   "mimetype": "text/x-python",
   "name": "python",
   "nbconvert_exporter": "python",
   "pygments_lexer": "ipython3",
   "version": "3.11.8"
  }
 },
 "nbformat": 4,
 "nbformat_minor": 2
}
