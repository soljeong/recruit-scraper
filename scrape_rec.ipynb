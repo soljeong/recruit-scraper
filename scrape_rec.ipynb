{
 "cells": [
  {
   "cell_type": "markdown",
   "metadata": {},
   "source": [
    "# 새 데이터 가져오기"
   ]
  },
  {
   "cell_type": "markdown",
   "metadata": {},
   "source": [
    "# eda\n",
    "## 사명 변경된 적 있는지\n",
    "```\n",
    "final_df = df[df.groupby('company_sn')['company_name'].transform('nunique') > 1].sort_values(by='job_idx')[['company_sn', 'company_name']].drop_duplicates()\n",
    "final_df['name_count'] = final_df.groupby('company_sn').cumcount() + 1\n",
    "final_df.pivot_table(columns='name_count', index='company_sn', values='company_name', aggfunc='first')\n",
    "```\n",
    "\n",
    "## 목록에 표시된 해시태그\n",
    "- 하지만 각 공고마다 가지고 있는 태그 전체 내용이 아니다.\n",
    "```\n",
    "df2 = df[['job_idx','job_sectors']]\n",
    "df2.explode('job_sectors').groupby('job_sectors').size().sort_values(ascending=False).to_csv('job_sectors.csv')\n",
    "df.explode('job_sectors').groupby('job_sectors').get_group('크롤링')"
   ]
  },
  {
   "cell_type": "markdown",
   "metadata": {},
   "source": [
    "## jobsector 데이터가 조회할때마다 달라지는지 확인 필요\n",
    "- 다섯개 이상 선택해도 리스트에 표시되지 않음\n",
    "- 지정된 우선순위 순서로 표시되는지 아니면 조회할때마다 무작위로 5개 선택하는지 확인 필요"
   ]
  },
  {
   "cell_type": "markdown",
   "metadata": {},
   "source": [
    "# 구글 시트에서 이전 시트 가져오기"
   ]
  },
  {
   "cell_type": "markdown",
   "metadata": {},
   "source": [
    "import gspread\n",
    "from gspread_dataframe import get_as_dataframe, set_with_dataframe\n",
    "\n",
    "gc = gspread.service_account()\n",
    "\n",
    "sh=gc.open_by_key('1vkZ7FF1bgACwXKxkmSNemmSNiti4Bd2M177w-8H80ww').sheet1\n",
    "\n",
    "\n",
    "\n",
    "\n",
    "# modified          datetime64[ns]\n",
    "# resistered        datetime64[ns]\n",
    "# update            datetime64[ns]\n",
    "# df_old의 세가지 열 데이터타입 변경\n",
    "\n",
    "\n",
    "df_old = get_as_dataframe(sh, evaluate_formulas=False)\n",
    "df_old.dropna(subset=['job_idx'], inplace=True)\n",
    "df_old['job_idx'] = df_old['job_idx'].astype(int)\n",
    "df_old.set_index('job_idx', inplace=True)\n",
    "df_old['is_headhunting'] = df_old['is_headhunting'].astype(bool)\n",
    "df_old[\"modified\"] = pd.to_datetime(df_old[\"modified\"])\n",
    "df_old[\"resistered\"] = pd.to_datetime(df_old[\"resistered\"])\n",
    "df_old[\"update\"] = pd.to_datetime(df_old[\"update\"])\n",
    "df_old"
   ]
  },
  {
   "cell_type": "markdown",
   "metadata": {},
   "source": [
    "# 새시트, 이전시트 병합\n",
    "- jobsector 열 리스트 확장\n",
    "- 제목 변경되는 경우 특이 케이스로 보고 따로 표시\n",
    "- 수정일 : 새 시트 우선\n",
    "- 작성일 : 이전 시트 우선, 원래 없다가 새로 생겨나는 경우 없을듯\n",
    "- update 열 : 마지막으로 조회한 시간, 새 시트 우선\n",
    "- 어떻게 합치는게 세련된 방법인지 모르겠다\n",
    "\n",
    "- old에서 안쓰는 열은 드롭? 안돼 그러면 아우터가 아니니까\n",
    "\n",
    "- 작성일 관측 불가면 어떻게 할지?"
   ]
  },
  {
   "cell_type": "markdown",
   "metadata": {},
   "source": [
    "# Merge the dataframes\n",
    "merged_df = pd.merge(df_old, df_new, how='outer', on=['job_idx'])\n",
    "\n",
    "# Apply conditions to overlapping parts\n",
    "# modified new 우선, resistered old 우선, update new 우선\n",
    "\n",
    "merged_df[\"resistered\"] = merged_df[\"resistered_x\"].fillna(merged_df[\"resistered_y\"])\n",
    "merged_df[\"modified\"] = merged_df[\"modified_x\"].fillna(merged_df[\"modified_y\"])\n",
    "merged_df[\"update\"] = merged_df[\"update_y\"].fillna(merged_df[\"update_x\"])\n",
    "\n",
    "# Drop the columns\n",
    "merged_df = merged_df.drop(columns=[\"resistered_x\", \"resistered_y\", \"modified_x\", \"modified_y\", \"update_x\", \"update_y\"])\n",
    "merged_df"
   ]
  },
  {
   "cell_type": "markdown",
   "metadata": {},
   "source": [
    "# 새 시트로 덮어쓰기"
   ]
  },
  {
   "cell_type": "markdown",
   "metadata": {},
   "source": [
    "# Clear the contents of the sheet\n",
    "sh.clear()\n",
    "\n",
    "# Set the new dataframe in the sheet\n",
    "set_with_dataframe(sh, combined_df, include_index=True, allow_formulas=False)\n"
   ]
  },
  {
   "cell_type": "markdown",
   "metadata": {},
   "source": [
    "# 키워드 처리\n",
    "- job_sector 열에 키워드 들어있다.\n",
    "- 키워드는 리스트 타입으로\n",
    "- 각 공고마다 5개 이상의 키워드 가질 수 있다.\n",
    "- 공고 목록에 표시되는 건 5개의 키워드 뿐\n",
    "- 키워드로 목록을 새로 조회할 수 있다.\n",
    "- 키워드로 목록을 조회할 때, 해당 목록의 모든 공고가 그 키워드를 가지고 있다고 등록해줘야함\n",
    "- 자동차 라는 키워드로 목록 조회\n",
    "- 그 목록을 1차 처리\n",
    "- 키워드 리스트를 별도 테이블로 분리하고, 모든 공고에 검색 키워드 추가\n"
   ]
  },
  {
   "cell_type": "markdown",
   "metadata": {},
   "source": [
    "전산총무 : 415\n",
    "자동차 : 2218\n"
   ]
  },
  {
   "cell_type": "code",
   "execution_count": 2,
   "metadata": {},
   "outputs": [],
   "source": [
    "import pandas as pd\n",
    "import pickle"
   ]
  },
  {
   "cell_type": "code",
   "execution_count": 3,
   "metadata": {},
   "outputs": [],
   "source": [
    "# Specify the file path of the pickle file\n",
    "file_path = 'df_key.pickle'\n",
    "\n",
    "# Load the pickle file\n",
    "with open(file_path, 'rb') as file:\n",
    "    df_key = pickle.load(file)\n"
   ]
  },
  {
   "cell_type": "code",
   "execution_count": 4,
   "metadata": {},
   "outputs": [],
   "source": [
    "# Specify the file path of the pickle file\n",
    "file_path = 'df_combined.pickle'\n",
    "\n",
    "# Load the pickle file into df_old\n",
    "with open(file_path, 'rb') as file:\n",
    "    df_job = pickle.load(file)\n"
   ]
  },
  {
   "cell_type": "code",
   "execution_count": 5,
   "metadata": {},
   "outputs": [
    {
     "data": {
      "text/plain": [
       "(4911, 14)"
      ]
     },
     "execution_count": 5,
     "metadata": {},
     "output_type": "execute_result"
    }
   ],
   "source": [
    "df_job.shape"
   ]
  },
  {
   "cell_type": "code",
   "execution_count": 7,
   "metadata": {},
   "outputs": [
    {
     "data": {
      "text/plain": [
       "job_idx\n",
       "47905963    8\n",
       "47871493    8\n",
       "47862010    8\n",
       "47896473    8\n",
       "47889275    8\n",
       "           ..\n",
       "47911923    1\n",
       "47836917    1\n",
       "47910300    1\n",
       "47783072    1\n",
       "47838204    1\n",
       "Length: 4911, dtype: int64"
      ]
     },
     "execution_count": 7,
     "metadata": {},
     "output_type": "execute_result"
    }
   ],
   "source": [
    "df_key.groupby('job_idx').size().sort_values(ascending=False)\n"
   ]
  }
 ],
 "metadata": {
  "kernelspec": {
   "display_name": ".venv",
   "language": "python",
   "name": "python3"
  },
  "language_info": {
   "codemirror_mode": {
    "name": "ipython",
    "version": 3
   },
   "file_extension": ".py",
   "mimetype": "text/x-python",
   "name": "python",
   "nbconvert_exporter": "python",
   "pygments_lexer": "ipython3",
   "version": "3.11.8"
  }
 },
 "nbformat": 4,
 "nbformat_minor": 2
}
